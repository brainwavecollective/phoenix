{
 "cells": [
  {
   "cell_type": "markdown",
   "metadata": {},
   "source": [
    "# Overview\n",
    "Tracing is a powerful tool for understanding the behavior of your LLM application. Phoenix has best-in-class tracing, regardless of what framework you use, and has first-class instrumentation for a variety of frameworks (LlamaIndex, LangChain, DSPy),  SDKs (OpenAI, Bedrock, Mistral, Vertex), and Languages (Python, Javascript). You can also manually instrument your application using the OpenTelemetry SDK.\n",
    "\n",
    "This example will walk you through how to use Phoenix to trace OpenAI requests."
   ]
  },
  {
   "cell_type": "markdown",
   "metadata": {},
   "source": [
    "# Install Dependencies\n",
    "Let's start by installing the necessary dependencies."
   ]
  },
  {
   "cell_type": "code",
   "execution_count": 1,
   "metadata": {},
   "outputs": [],
   "source": [
    "!pip install -q \"arize-phoenix>=4.29.0\""
   ]
  },
  {
   "cell_type": "markdown",
   "metadata": {},
   "source": [
    "# Launch Phoenix\n",
    "\n",
    "You have a few options for how to start a Phoenix app. We're using a cloud instance for this tutorial, but you can launch Phoenix in multiple different ways. If you don't want to sign up for a cloud instance, you can start a Phoenix app in your notebook environment or via docker."
   ]
  },
  {
   "cell_type": "code",
   "execution_count": 2,
   "metadata": {},
   "outputs": [
    {
     "name": "stderr",
     "output_type": "stream",
     "text": [
      "/opt/anaconda3/envs/phoenix/lib/python3.12/site-packages/tqdm/auto.py:21: TqdmWarning: IProgress not found. Please update jupyter and ipywidgets. See https://ipywidgets.readthedocs.io/en/stable/user_install.html\n",
      "  from .autonotebook import tqdm as notebook_tqdm\n"
     ]
    },
    {
     "name": "stdout",
     "output_type": "stream",
     "text": [
      "🌍 To view the Phoenix app in your browser, visit http://localhost:6006/\n",
      "📖 For more information on how to use Phoenix, check out https://docs.arize.com/phoenix\n",
      "📺 Opening a view to the Phoenix app. The app is running at http://localhost:6006/\n"
     ]
    }
   ],
   "source": [
    "# Check if PHOENIX_API_KEY is present in the environment variables.\n",
    "# If it is, we'll use the cloud instance of Phoenix. If it's not, we'll start a local instance.\n",
    "# A third option is to connect to a docker or locally hosted instance.\n",
    "# See https://docs.arize.com/phoenix/setup/environments for more information.\n",
    "\n",
    "import os\n",
    "\n",
    "if \"PHOENIX_API_KEY\" in os.environ:\n",
    "    os.environ[\"PHOENIX_CLIENT_HEADERS\"] = f\"api_key={os.environ['PHOENIX_API_KEY']}\"\n",
    "    os.environ[\"PHOENIX_COLLECTOR_ENDPOINT\"] = \"https://app.phoenix.arize.com\"\n",
    "\n",
    "else:\n",
    "    import phoenix as px\n",
    "\n",
    "    px.launch_app().view()"
   ]
  },
  {
   "cell_type": "markdown",
   "metadata": {},
   "source": [
    "Now that we have Phoenix configured, we can register that instance with OpenTelemetry, which will allow us to collect traces from our application here."
   ]
  },
  {
   "cell_type": "code",
   "execution_count": 3,
   "metadata": {},
   "outputs": [
    {
     "name": "stdout",
     "output_type": "stream",
     "text": [
      "🔭 OpenTelemetry Tracing Details 🔭\n",
      "|  Phoenix Project: default\n",
      "|  Span Processor: SimpleSpanProcessor\n",
      "|  Collector Endpoint: localhost:4317\n",
      "|  Transport: gRPC\n",
      "|  Transport Headers: {'user-agent': '****'}\n",
      "|  \n",
      "|  Using a default SpanProcessor. `add_span_processor` will overwrite this default.\n",
      "|  \n",
      "|  `register` has set this TracerProvider as the global OpenTelemetry default.\n",
      "|  To disable this behavior, call `register` with `set_global_tracer_provider=False`.\n",
      "\n"
     ]
    }
   ],
   "source": [
    "from phoenix.otel import register\n",
    "\n",
    "tracer_provider = register()"
   ]
  },
  {
   "cell_type": "markdown",
   "metadata": {},
   "source": [
    "# Instrument your application\n",
    "\n",
    "Now we need to indicate which methods and attributes we want to trace. Phoenix has a number of built-in tracers for popular frameworks, and provides tools to manually instrument your application if needed. See [here for a list of integrations](https://docs.arize.com/phoenix/tracing/integrations-tracing)\n",
    "\n",
    "Here we're using OpenAI, so we'll the built-in OpenAI instrumentor we provide."
   ]
  },
  {
   "cell_type": "code",
   "execution_count": 4,
   "metadata": {},
   "outputs": [
    {
     "name": "stderr",
     "output_type": "stream",
     "text": [
      "WARNING: All log messages before absl::InitializeLog() is called are written to STDERR\n",
      "I0000 00:00:1726019136.795300  327237 fork_posix.cc:77] Other threads are currently calling into gRPC, skipping fork() handlers\n"
     ]
    }
   ],
   "source": [
    "!pip install -q openinference-instrumentation-openai openai"
   ]
  },
  {
   "cell_type": "code",
   "execution_count": 5,
   "metadata": {},
   "outputs": [],
   "source": [
    "from openinference.instrumentation.openai import OpenAIInstrumentor\n",
    "\n",
    "OpenAIInstrumentor().instrument(tracer_provider=tracer_provider, skip_dep_check=True)"
   ]
  },
  {
   "cell_type": "markdown",
   "metadata": {},
   "source": [
    "# Use OpenAI as normal\n",
    "\n",
    "From here we can use OpenAI as normal. All of our requests will be traced and reported to Phoenix automatically."
   ]
  },
  {
   "cell_type": "code",
   "execution_count": 6,
   "metadata": {},
   "outputs": [],
   "source": [
    "# Add OpenAI API Key\n",
    "import os\n",
    "from getpass import getpass\n",
    "\n",
    "if not (openai_api_key := os.getenv(\"OPENAI_API_KEY\")):\n",
    "    openai_api_key = getpass(\"🔑 Enter your OpenAI API key: \")\n",
    "\n",
    "os.environ[\"OPENAI_API_KEY\"] = openai_api_key"
   ]
  },
  {
   "cell_type": "code",
   "execution_count": 11,
   "metadata": {},
   "outputs": [
    {
     "name": "stdout",
     "output_type": "stream",
     "text": [
      "Golden leaves cascade,\n",
      "Whispers of autumn's embrace—\n",
      "Nature's quiet song.\n"
     ]
    }
   ],
   "source": [
    "import openai\n",
    "\n",
    "client = openai.OpenAI()\n",
    "response = client.chat.completions.create(\n",
    "    model=\"gpt-4o\",\n",
    "    messages=[{\"role\": \"user\", \"content\": \"Write a haiku.\"}],\n",
    ")\n",
    "print(response.choices[0].message.content)"
   ]
  },
  {
   "cell_type": "code",
   "execution_count": 12,
   "metadata": {},
   "outputs": [],
   "source": [
    "# Now following tutorial: https://docs.arize.com/phoenix/inferences/phoenix-inferences\n",
    "import pandas as pd\n",
    "\n",
    "train_df = pd.read_parquet(\n",
    "    \"http://storage.googleapis.com/arize-assets/phoenix/datasets/unstructured/cv/human-actions/human_actions_training.parquet\"\n",
    ")"
   ]
  },
  {
   "cell_type": "code",
   "execution_count": 19,
   "metadata": {},
   "outputs": [
    {
     "data": {
      "text/html": [
       "<div>\n",
       "<style scoped>\n",
       "    .dataframe tbody tr th:only-of-type {\n",
       "        vertical-align: middle;\n",
       "    }\n",
       "\n",
       "    .dataframe tbody tr th {\n",
       "        vertical-align: top;\n",
       "    }\n",
       "\n",
       "    .dataframe thead th {\n",
       "        text-align: right;\n",
       "    }\n",
       "</style>\n",
       "<table border=\"1\" class=\"dataframe\">\n",
       "  <thead>\n",
       "    <tr style=\"text-align: right;\">\n",
       "      <th></th>\n",
       "      <th>prediction_id</th>\n",
       "      <th>prediction_ts</th>\n",
       "      <th>url</th>\n",
       "      <th>image_vector</th>\n",
       "      <th>actual_action</th>\n",
       "      <th>predicted_action</th>\n",
       "    </tr>\n",
       "  </thead>\n",
       "  <tbody>\n",
       "    <tr>\n",
       "      <th>0</th>\n",
       "      <td>595d87df-5d50-4d60-bc5f-3ad1cc483190</td>\n",
       "      <td>1.655757e+09</td>\n",
       "      <td>https://storage.googleapis.com/arize-assets/fi...</td>\n",
       "      <td>[0.26720312, 0.02652928, 0.0, 0.028591828, 0.0...</td>\n",
       "      <td>drinking</td>\n",
       "      <td>drinking</td>\n",
       "    </tr>\n",
       "    <tr>\n",
       "      <th>1</th>\n",
       "      <td>37596b85-c007-4e4f-901d-b87e5297d4b8</td>\n",
       "      <td>1.655757e+09</td>\n",
       "      <td>https://storage.googleapis.com/arize-assets/fi...</td>\n",
       "      <td>[0.08745878, 0.0, 0.16057675, 0.036570743, 0.0...</td>\n",
       "      <td>fighting</td>\n",
       "      <td>fighting</td>\n",
       "    </tr>\n",
       "    <tr>\n",
       "      <th>2</th>\n",
       "      <td>b048d389-539a-4ffb-be61-2f4daa52e700</td>\n",
       "      <td>1.655757e+09</td>\n",
       "      <td>https://storage.googleapis.com/arize-assets/fi...</td>\n",
       "      <td>[0.9822482, 0.0, 0.037284207, 0.017358225, 0.2...</td>\n",
       "      <td>clapping</td>\n",
       "      <td>clapping</td>\n",
       "    </tr>\n",
       "    <tr>\n",
       "      <th>3</th>\n",
       "      <td>3e00c023-49b4-49c2-9922-7ecbf1349c04</td>\n",
       "      <td>1.655757e+09</td>\n",
       "      <td>https://storage.googleapis.com/arize-assets/fi...</td>\n",
       "      <td>[0.028404092, 0.063946, 1.0448836, 0.65191674,...</td>\n",
       "      <td>fighting</td>\n",
       "      <td>fighting</td>\n",
       "    </tr>\n",
       "    <tr>\n",
       "      <th>4</th>\n",
       "      <td>fb38b050-fb12-43af-b27d-629653b5df86</td>\n",
       "      <td>1.655758e+09</td>\n",
       "      <td>https://storage.googleapis.com/arize-assets/fi...</td>\n",
       "      <td>[0.06121698, 0.5172761, 0.50730985, 0.5771937,...</td>\n",
       "      <td>sitting</td>\n",
       "      <td>sitting</td>\n",
       "    </tr>\n",
       "  </tbody>\n",
       "</table>\n",
       "</div>"
      ],
      "text/plain": [
       "                          prediction_id  prediction_ts  \\\n",
       "0  595d87df-5d50-4d60-bc5f-3ad1cc483190   1.655757e+09   \n",
       "1  37596b85-c007-4e4f-901d-b87e5297d4b8   1.655757e+09   \n",
       "2  b048d389-539a-4ffb-be61-2f4daa52e700   1.655757e+09   \n",
       "3  3e00c023-49b4-49c2-9922-7ecbf1349c04   1.655757e+09   \n",
       "4  fb38b050-fb12-43af-b27d-629653b5df86   1.655758e+09   \n",
       "\n",
       "                                                 url  \\\n",
       "0  https://storage.googleapis.com/arize-assets/fi...   \n",
       "1  https://storage.googleapis.com/arize-assets/fi...   \n",
       "2  https://storage.googleapis.com/arize-assets/fi...   \n",
       "3  https://storage.googleapis.com/arize-assets/fi...   \n",
       "4  https://storage.googleapis.com/arize-assets/fi...   \n",
       "\n",
       "                                        image_vector actual_action  \\\n",
       "0  [0.26720312, 0.02652928, 0.0, 0.028591828, 0.0...      drinking   \n",
       "1  [0.08745878, 0.0, 0.16057675, 0.036570743, 0.0...      fighting   \n",
       "2  [0.9822482, 0.0, 0.037284207, 0.017358225, 0.2...      clapping   \n",
       "3  [0.028404092, 0.063946, 1.0448836, 0.65191674,...      fighting   \n",
       "4  [0.06121698, 0.5172761, 0.50730985, 0.5771937,...       sitting   \n",
       "\n",
       "  predicted_action  \n",
       "0         drinking  \n",
       "1         fighting  \n",
       "2         clapping  \n",
       "3         fighting  \n",
       "4          sitting  "
      ]
     },
     "execution_count": 19,
     "metadata": {},
     "output_type": "execute_result"
    }
   ],
   "source": [
    "train_df.head()"
   ]
  },
  {
   "cell_type": "code",
   "execution_count": 13,
   "metadata": {},
   "outputs": [],
   "source": [
    "# Define Schema to indicate which columns in train_df should map to each field\n",
    "train_schema = px.Schema(\n",
    "    timestamp_column_name=\"prediction_ts\",\n",
    "    prediction_label_column_name=\"predicted_action\",\n",
    "    actual_label_column_name=\"actual_action\",\n",
    "    embedding_feature_column_names={\n",
    "        \"image_embedding\": px.EmbeddingColumnNames(\n",
    "            vector_column_name=\"image_vector\",\n",
    "            link_to_data_column_name=\"url\",\n",
    "        ),\n",
    "    },\n",
    ")"
   ]
  },
  {
   "cell_type": "code",
   "execution_count": 17,
   "metadata": {},
   "outputs": [],
   "source": [
    "train_ds = px.Inferences(dataframe=train_df, schema=train_schema, name=\"training\")"
   ]
  },
  {
   "cell_type": "code",
   "execution_count": 18,
   "metadata": {},
   "outputs": [
    {
     "name": "stderr",
     "output_type": "stream",
     "text": [
      "WARNI [phoenix.session.session] Existing running Phoenix instance detected! Shutting it down and starting a new instance...\n"
     ]
    },
    {
     "name": "stdout",
     "output_type": "stream",
     "text": [
      "🌍 To view the Phoenix app in your browser, visit http://localhost:6006/\n",
      "📖 For more information on how to use Phoenix, check out https://docs.arize.com/phoenix\n"
     ]
    },
    {
     "name": "stderr",
     "output_type": "stream",
     "text": [
      "I0000 00:00:1726021546.772817  352978 fork_posix.cc:77] Other threads are currently calling into gRPC, skipping fork() handlers\n",
      "/opt/anaconda3/envs/phoenix/lib/python3.12/site-packages/phoenix/server/api/types/EmbeddingDimension.py:425: FutureWarning: Series.__getitem__ treating keys as positions is deprecated. In a future version, integer keys will always be treated as labels (consistent with DataFrame behavior). To access a value by position, use `ser.iloc[pos]`\n",
      "  prediction_id=dataset[PREDICTION_ID][row_id],\n",
      "/opt/anaconda3/envs/phoenix/lib/python3.12/site-packages/phoenix/server/api/types/EmbeddingDimension.py:426: FutureWarning: Series.__getitem__ treating keys as positions is deprecated. In a future version, integer keys will always be treated as labels (consistent with DataFrame behavior). To access a value by position, use `ser.iloc[pos]`\n",
      "  link_to_data=dataset[self.dimension.link_to_data][row_id],\n",
      "/opt/anaconda3/envs/phoenix/lib/python3.12/site-packages/phoenix/server/api/types/EmbeddingDimension.py:427: FutureWarning: Series.__getitem__ treating keys as positions is deprecated. In a future version, integer keys will always be treated as labels (consistent with DataFrame behavior). To access a value by position, use `ser.iloc[pos]`\n",
      "  raw_data=dataset[self.dimension.raw_data][row_id],\n",
      "/opt/anaconda3/envs/phoenix/lib/python3.12/site-packages/phoenix/server/api/types/EmbeddingDimension.py:448: FutureWarning: Series.__getitem__ treating keys as positions is deprecated. In a future version, integer keys will always be treated as labels (consistent with DataFrame behavior). To access a value by position, use `ser.iloc[pos]`\n",
      "  prediction_label=dataset[PREDICTION_LABEL][row_id],\n",
      "/opt/anaconda3/envs/phoenix/lib/python3.12/site-packages/phoenix/server/api/types/EmbeddingDimension.py:449: FutureWarning: Series.__getitem__ treating keys as positions is deprecated. In a future version, integer keys will always be treated as labels (consistent with DataFrame behavior). To access a value by position, use `ser.iloc[pos]`\n",
      "  prediction_score=dataset[PREDICTION_SCORE][row_id],\n",
      "/opt/anaconda3/envs/phoenix/lib/python3.12/site-packages/phoenix/server/api/types/EmbeddingDimension.py:450: FutureWarning: Series.__getitem__ treating keys as positions is deprecated. In a future version, integer keys will always be treated as labels (consistent with DataFrame behavior). To access a value by position, use `ser.iloc[pos]`\n",
      "  actual_label=dataset[ACTUAL_LABEL][row_id],\n",
      "/opt/anaconda3/envs/phoenix/lib/python3.12/site-packages/phoenix/server/api/types/EmbeddingDimension.py:451: FutureWarning: Series.__getitem__ treating keys as positions is deprecated. In a future version, integer keys will always be treated as labels (consistent with DataFrame behavior). To access a value by position, use `ser.iloc[pos]`\n",
      "  actual_score=dataset[ACTUAL_SCORE][row_id],\n",
      "/opt/anaconda3/envs/phoenix/lib/python3.12/site-packages/phoenix/server/api/types/EmbeddingDimension.py:425: FutureWarning: Series.__getitem__ treating keys as positions is deprecated. In a future version, integer keys will always be treated as labels (consistent with DataFrame behavior). To access a value by position, use `ser.iloc[pos]`\n",
      "  prediction_id=dataset[PREDICTION_ID][row_id],\n",
      "/opt/anaconda3/envs/phoenix/lib/python3.12/site-packages/phoenix/server/api/types/EmbeddingDimension.py:426: FutureWarning: Series.__getitem__ treating keys as positions is deprecated. In a future version, integer keys will always be treated as labels (consistent with DataFrame behavior). To access a value by position, use `ser.iloc[pos]`\n",
      "  link_to_data=dataset[self.dimension.link_to_data][row_id],\n",
      "/opt/anaconda3/envs/phoenix/lib/python3.12/site-packages/phoenix/server/api/types/EmbeddingDimension.py:427: FutureWarning: Series.__getitem__ treating keys as positions is deprecated. In a future version, integer keys will always be treated as labels (consistent with DataFrame behavior). To access a value by position, use `ser.iloc[pos]`\n",
      "  raw_data=dataset[self.dimension.raw_data][row_id],\n",
      "/opt/anaconda3/envs/phoenix/lib/python3.12/site-packages/phoenix/server/api/types/EmbeddingDimension.py:448: FutureWarning: Series.__getitem__ treating keys as positions is deprecated. In a future version, integer keys will always be treated as labels (consistent with DataFrame behavior). To access a value by position, use `ser.iloc[pos]`\n",
      "  prediction_label=dataset[PREDICTION_LABEL][row_id],\n",
      "/opt/anaconda3/envs/phoenix/lib/python3.12/site-packages/phoenix/server/api/types/EmbeddingDimension.py:449: FutureWarning: Series.__getitem__ treating keys as positions is deprecated. In a future version, integer keys will always be treated as labels (consistent with DataFrame behavior). To access a value by position, use `ser.iloc[pos]`\n",
      "  prediction_score=dataset[PREDICTION_SCORE][row_id],\n",
      "/opt/anaconda3/envs/phoenix/lib/python3.12/site-packages/phoenix/server/api/types/EmbeddingDimension.py:450: FutureWarning: Series.__getitem__ treating keys as positions is deprecated. In a future version, integer keys will always be treated as labels (consistent with DataFrame behavior). To access a value by position, use `ser.iloc[pos]`\n",
      "  actual_label=dataset[ACTUAL_LABEL][row_id],\n",
      "/opt/anaconda3/envs/phoenix/lib/python3.12/site-packages/phoenix/server/api/types/EmbeddingDimension.py:451: FutureWarning: Series.__getitem__ treating keys as positions is deprecated. In a future version, integer keys will always be treated as labels (consistent with DataFrame behavior). To access a value by position, use `ser.iloc[pos]`\n",
      "  actual_score=dataset[ACTUAL_SCORE][row_id],\n",
      "/opt/anaconda3/envs/phoenix/lib/python3.12/site-packages/phoenix/server/api/types/EmbeddingDimension.py:425: FutureWarning: Series.__getitem__ treating keys as positions is deprecated. In a future version, integer keys will always be treated as labels (consistent with DataFrame behavior). To access a value by position, use `ser.iloc[pos]`\n",
      "  prediction_id=dataset[PREDICTION_ID][row_id],\n",
      "/opt/anaconda3/envs/phoenix/lib/python3.12/site-packages/phoenix/server/api/types/EmbeddingDimension.py:426: FutureWarning: Series.__getitem__ treating keys as positions is deprecated. In a future version, integer keys will always be treated as labels (consistent with DataFrame behavior). To access a value by position, use `ser.iloc[pos]`\n",
      "  link_to_data=dataset[self.dimension.link_to_data][row_id],\n",
      "/opt/anaconda3/envs/phoenix/lib/python3.12/site-packages/phoenix/server/api/types/EmbeddingDimension.py:427: FutureWarning: Series.__getitem__ treating keys as positions is deprecated. In a future version, integer keys will always be treated as labels (consistent with DataFrame behavior). To access a value by position, use `ser.iloc[pos]`\n",
      "  raw_data=dataset[self.dimension.raw_data][row_id],\n",
      "/opt/anaconda3/envs/phoenix/lib/python3.12/site-packages/phoenix/server/api/types/EmbeddingDimension.py:448: FutureWarning: Series.__getitem__ treating keys as positions is deprecated. In a future version, integer keys will always be treated as labels (consistent with DataFrame behavior). To access a value by position, use `ser.iloc[pos]`\n",
      "  prediction_label=dataset[PREDICTION_LABEL][row_id],\n",
      "/opt/anaconda3/envs/phoenix/lib/python3.12/site-packages/phoenix/server/api/types/EmbeddingDimension.py:449: FutureWarning: Series.__getitem__ treating keys as positions is deprecated. In a future version, integer keys will always be treated as labels (consistent with DataFrame behavior). To access a value by position, use `ser.iloc[pos]`\n",
      "  prediction_score=dataset[PREDICTION_SCORE][row_id],\n",
      "/opt/anaconda3/envs/phoenix/lib/python3.12/site-packages/phoenix/server/api/types/EmbeddingDimension.py:450: FutureWarning: Series.__getitem__ treating keys as positions is deprecated. In a future version, integer keys will always be treated as labels (consistent with DataFrame behavior). To access a value by position, use `ser.iloc[pos]`\n",
      "  actual_label=dataset[ACTUAL_LABEL][row_id],\n",
      "/opt/anaconda3/envs/phoenix/lib/python3.12/site-packages/phoenix/server/api/types/EmbeddingDimension.py:451: FutureWarning: Series.__getitem__ treating keys as positions is deprecated. In a future version, integer keys will always be treated as labels (consistent with DataFrame behavior). To access a value by position, use `ser.iloc[pos]`\n",
      "  actual_score=dataset[ACTUAL_SCORE][row_id],\n",
      "/opt/anaconda3/envs/phoenix/lib/python3.12/site-packages/phoenix/server/api/types/EmbeddingDimension.py:425: FutureWarning: Series.__getitem__ treating keys as positions is deprecated. In a future version, integer keys will always be treated as labels (consistent with DataFrame behavior). To access a value by position, use `ser.iloc[pos]`\n",
      "  prediction_id=dataset[PREDICTION_ID][row_id],\n",
      "/opt/anaconda3/envs/phoenix/lib/python3.12/site-packages/phoenix/server/api/types/EmbeddingDimension.py:426: FutureWarning: Series.__getitem__ treating keys as positions is deprecated. In a future version, integer keys will always be treated as labels (consistent with DataFrame behavior). To access a value by position, use `ser.iloc[pos]`\n",
      "  link_to_data=dataset[self.dimension.link_to_data][row_id],\n",
      "/opt/anaconda3/envs/phoenix/lib/python3.12/site-packages/phoenix/server/api/types/EmbeddingDimension.py:427: FutureWarning: Series.__getitem__ treating keys as positions is deprecated. In a future version, integer keys will always be treated as labels (consistent with DataFrame behavior). To access a value by position, use `ser.iloc[pos]`\n",
      "  raw_data=dataset[self.dimension.raw_data][row_id],\n",
      "/opt/anaconda3/envs/phoenix/lib/python3.12/site-packages/phoenix/server/api/types/EmbeddingDimension.py:448: FutureWarning: Series.__getitem__ treating keys as positions is deprecated. In a future version, integer keys will always be treated as labels (consistent with DataFrame behavior). To access a value by position, use `ser.iloc[pos]`\n",
      "  prediction_label=dataset[PREDICTION_LABEL][row_id],\n",
      "/opt/anaconda3/envs/phoenix/lib/python3.12/site-packages/phoenix/server/api/types/EmbeddingDimension.py:449: FutureWarning: Series.__getitem__ treating keys as positions is deprecated. In a future version, integer keys will always be treated as labels (consistent with DataFrame behavior). To access a value by position, use `ser.iloc[pos]`\n",
      "  prediction_score=dataset[PREDICTION_SCORE][row_id],\n",
      "/opt/anaconda3/envs/phoenix/lib/python3.12/site-packages/phoenix/server/api/types/EmbeddingDimension.py:450: FutureWarning: Series.__getitem__ treating keys as positions is deprecated. In a future version, integer keys will always be treated as labels (consistent with DataFrame behavior). To access a value by position, use `ser.iloc[pos]`\n",
      "  actual_label=dataset[ACTUAL_LABEL][row_id],\n",
      "/opt/anaconda3/envs/phoenix/lib/python3.12/site-packages/phoenix/server/api/types/EmbeddingDimension.py:451: FutureWarning: Series.__getitem__ treating keys as positions is deprecated. In a future version, integer keys will always be treated as labels (consistent with DataFrame behavior). To access a value by position, use `ser.iloc[pos]`\n",
      "  actual_score=dataset[ACTUAL_SCORE][row_id],\n"
     ]
    }
   ],
   "source": [
    "session = px.launch_app(primary=train_ds)"
   ]
  },
  {
   "cell_type": "markdown",
   "metadata": {},
   "source": [
    "# Add comparison data"
   ]
  },
  {
   "cell_type": "code",
   "execution_count": 21,
   "metadata": {},
   "outputs": [
    {
     "data": {
      "text/html": [
       "<div>\n",
       "<style scoped>\n",
       "    .dataframe tbody tr th:only-of-type {\n",
       "        vertical-align: middle;\n",
       "    }\n",
       "\n",
       "    .dataframe tbody tr th {\n",
       "        vertical-align: top;\n",
       "    }\n",
       "\n",
       "    .dataframe thead th {\n",
       "        text-align: right;\n",
       "    }\n",
       "</style>\n",
       "<table border=\"1\" class=\"dataframe\">\n",
       "  <thead>\n",
       "    <tr style=\"text-align: right;\">\n",
       "      <th></th>\n",
       "      <th>prediction_id</th>\n",
       "      <th>prediction_ts</th>\n",
       "      <th>url</th>\n",
       "      <th>image_vector</th>\n",
       "      <th>actual_action</th>\n",
       "      <th>predicted_action</th>\n",
       "    </tr>\n",
       "  </thead>\n",
       "  <tbody>\n",
       "    <tr>\n",
       "      <th>0</th>\n",
       "      <td>595d87df-5d50-4d60-bc5f-3ad1cc483190</td>\n",
       "      <td>1.655757e+09</td>\n",
       "      <td>https://storage.googleapis.com/arize-assets/fi...</td>\n",
       "      <td>[0.26720312, 0.02652928, 0.0, 0.028591828, 0.0...</td>\n",
       "      <td>drinking</td>\n",
       "      <td>drinking</td>\n",
       "    </tr>\n",
       "    <tr>\n",
       "      <th>1</th>\n",
       "      <td>37596b85-c007-4e4f-901d-b87e5297d4b8</td>\n",
       "      <td>1.655757e+09</td>\n",
       "      <td>https://storage.googleapis.com/arize-assets/fi...</td>\n",
       "      <td>[0.08745878, 0.0, 0.16057675, 0.036570743, 0.0...</td>\n",
       "      <td>fighting</td>\n",
       "      <td>fighting</td>\n",
       "    </tr>\n",
       "    <tr>\n",
       "      <th>2</th>\n",
       "      <td>b048d389-539a-4ffb-be61-2f4daa52e700</td>\n",
       "      <td>1.655757e+09</td>\n",
       "      <td>https://storage.googleapis.com/arize-assets/fi...</td>\n",
       "      <td>[0.9822482, 0.0, 0.037284207, 0.017358225, 0.2...</td>\n",
       "      <td>clapping</td>\n",
       "      <td>clapping</td>\n",
       "    </tr>\n",
       "    <tr>\n",
       "      <th>3</th>\n",
       "      <td>3e00c023-49b4-49c2-9922-7ecbf1349c04</td>\n",
       "      <td>1.655757e+09</td>\n",
       "      <td>https://storage.googleapis.com/arize-assets/fi...</td>\n",
       "      <td>[0.028404092, 0.063946, 1.0448836, 0.65191674,...</td>\n",
       "      <td>fighting</td>\n",
       "      <td>fighting</td>\n",
       "    </tr>\n",
       "    <tr>\n",
       "      <th>4</th>\n",
       "      <td>fb38b050-fb12-43af-b27d-629653b5df86</td>\n",
       "      <td>1.655758e+09</td>\n",
       "      <td>https://storage.googleapis.com/arize-assets/fi...</td>\n",
       "      <td>[0.06121698, 0.5172761, 0.50730985, 0.5771937,...</td>\n",
       "      <td>sitting</td>\n",
       "      <td>sitting</td>\n",
       "    </tr>\n",
       "  </tbody>\n",
       "</table>\n",
       "</div>"
      ],
      "text/plain": [
       "                          prediction_id  prediction_ts  \\\n",
       "0  595d87df-5d50-4d60-bc5f-3ad1cc483190   1.655757e+09   \n",
       "1  37596b85-c007-4e4f-901d-b87e5297d4b8   1.655757e+09   \n",
       "2  b048d389-539a-4ffb-be61-2f4daa52e700   1.655757e+09   \n",
       "3  3e00c023-49b4-49c2-9922-7ecbf1349c04   1.655757e+09   \n",
       "4  fb38b050-fb12-43af-b27d-629653b5df86   1.655758e+09   \n",
       "\n",
       "                                                 url  \\\n",
       "0  https://storage.googleapis.com/arize-assets/fi...   \n",
       "1  https://storage.googleapis.com/arize-assets/fi...   \n",
       "2  https://storage.googleapis.com/arize-assets/fi...   \n",
       "3  https://storage.googleapis.com/arize-assets/fi...   \n",
       "4  https://storage.googleapis.com/arize-assets/fi...   \n",
       "\n",
       "                                        image_vector actual_action  \\\n",
       "0  [0.26720312, 0.02652928, 0.0, 0.028591828, 0.0...      drinking   \n",
       "1  [0.08745878, 0.0, 0.16057675, 0.036570743, 0.0...      fighting   \n",
       "2  [0.9822482, 0.0, 0.037284207, 0.017358225, 0.2...      clapping   \n",
       "3  [0.028404092, 0.063946, 1.0448836, 0.65191674,...      fighting   \n",
       "4  [0.06121698, 0.5172761, 0.50730985, 0.5771937,...       sitting   \n",
       "\n",
       "  predicted_action  \n",
       "0         drinking  \n",
       "1         fighting  \n",
       "2         clapping  \n",
       "3         fighting  \n",
       "4          sitting  "
      ]
     },
     "execution_count": 21,
     "metadata": {},
     "output_type": "execute_result"
    }
   ],
   "source": [
    "#Add comparison data (visualize drift, conduct A/B tests of production data against training set\n",
    "prod_df = pd.read_parquet(\n",
    "    \"http://storage.googleapis.com/arize-assets/phoenix/datasets/unstructured/cv/human-actions/human_actions_training.parquet\"\n",
    ")\n",
    "\n",
    "prod_df.head()"
   ]
  },
  {
   "cell_type": "code",
   "execution_count": 22,
   "metadata": {},
   "outputs": [],
   "source": [
    "#Define schema\n",
    "prod_schema = px.Schema(\n",
    "    timestamp_column_name=\"prediction_ts\",\n",
    "    prediction_label_column_name=\"predicted_action\",\n",
    "    embedding_feature_column_names={\n",
    "        \"image_embedding\": px.EmbeddingColumnNames(\n",
    "            vector_column_name=\"image_vector\",\n",
    "            link_to_data_column_name=\"url\",\n",
    "        ),\n",
    "    },\n",
    ")"
   ]
  },
  {
   "cell_type": "code",
   "execution_count": 24,
   "metadata": {},
   "outputs": [],
   "source": [
    "#Wrap into inferences\n",
    "prod_ds = px.Inferences(dataframe=prod_df, schema=prod_schema, name=\"production\")\n",
    "\n",
    "px.Inferences()"
   ]
  },
  {
   "cell_type": "code",
   "execution_count": 25,
   "metadata": {},
   "outputs": [
    {
     "name": "stderr",
     "output_type": "stream",
     "text": [
      "WARNI [phoenix.session.session] Existing running Phoenix instance detected! Shutting it down and starting a new instance...\n"
     ]
    },
    {
     "name": "stdout",
     "output_type": "stream",
     "text": [
      "🌍 To view the Phoenix app in your browser, visit http://localhost:6006/\n",
      "📖 For more information on how to use Phoenix, check out https://docs.arize.com/phoenix\n"
     ]
    },
    {
     "name": "stderr",
     "output_type": "stream",
     "text": [
      "/opt/anaconda3/envs/phoenix/lib/python3.12/site-packages/phoenix/server/api/types/EmbeddingDimension.py:425: FutureWarning: Series.__getitem__ treating keys as positions is deprecated. In a future version, integer keys will always be treated as labels (consistent with DataFrame behavior). To access a value by position, use `ser.iloc[pos]`\n",
      "  prediction_id=dataset[PREDICTION_ID][row_id],\n",
      "/opt/anaconda3/envs/phoenix/lib/python3.12/site-packages/phoenix/server/api/types/EmbeddingDimension.py:426: FutureWarning: Series.__getitem__ treating keys as positions is deprecated. In a future version, integer keys will always be treated as labels (consistent with DataFrame behavior). To access a value by position, use `ser.iloc[pos]`\n",
      "  link_to_data=dataset[self.dimension.link_to_data][row_id],\n",
      "/opt/anaconda3/envs/phoenix/lib/python3.12/site-packages/phoenix/server/api/types/EmbeddingDimension.py:427: FutureWarning: Series.__getitem__ treating keys as positions is deprecated. In a future version, integer keys will always be treated as labels (consistent with DataFrame behavior). To access a value by position, use `ser.iloc[pos]`\n",
      "  raw_data=dataset[self.dimension.raw_data][row_id],\n",
      "/opt/anaconda3/envs/phoenix/lib/python3.12/site-packages/phoenix/server/api/types/EmbeddingDimension.py:448: FutureWarning: Series.__getitem__ treating keys as positions is deprecated. In a future version, integer keys will always be treated as labels (consistent with DataFrame behavior). To access a value by position, use `ser.iloc[pos]`\n",
      "  prediction_label=dataset[PREDICTION_LABEL][row_id],\n",
      "/opt/anaconda3/envs/phoenix/lib/python3.12/site-packages/phoenix/server/api/types/EmbeddingDimension.py:449: FutureWarning: Series.__getitem__ treating keys as positions is deprecated. In a future version, integer keys will always be treated as labels (consistent with DataFrame behavior). To access a value by position, use `ser.iloc[pos]`\n",
      "  prediction_score=dataset[PREDICTION_SCORE][row_id],\n",
      "/opt/anaconda3/envs/phoenix/lib/python3.12/site-packages/phoenix/server/api/types/EmbeddingDimension.py:450: FutureWarning: Series.__getitem__ treating keys as positions is deprecated. In a future version, integer keys will always be treated as labels (consistent with DataFrame behavior). To access a value by position, use `ser.iloc[pos]`\n",
      "  actual_label=dataset[ACTUAL_LABEL][row_id],\n",
      "/opt/anaconda3/envs/phoenix/lib/python3.12/site-packages/phoenix/server/api/types/EmbeddingDimension.py:451: FutureWarning: Series.__getitem__ treating keys as positions is deprecated. In a future version, integer keys will always be treated as labels (consistent with DataFrame behavior). To access a value by position, use `ser.iloc[pos]`\n",
      "  actual_score=dataset[ACTUAL_SCORE][row_id],\n",
      "/opt/anaconda3/envs/phoenix/lib/python3.12/site-packages/phoenix/server/api/types/EmbeddingDimension.py:425: FutureWarning: Series.__getitem__ treating keys as positions is deprecated. In a future version, integer keys will always be treated as labels (consistent with DataFrame behavior). To access a value by position, use `ser.iloc[pos]`\n",
      "  prediction_id=dataset[PREDICTION_ID][row_id],\n",
      "/opt/anaconda3/envs/phoenix/lib/python3.12/site-packages/phoenix/server/api/types/EmbeddingDimension.py:426: FutureWarning: Series.__getitem__ treating keys as positions is deprecated. In a future version, integer keys will always be treated as labels (consistent with DataFrame behavior). To access a value by position, use `ser.iloc[pos]`\n",
      "  link_to_data=dataset[self.dimension.link_to_data][row_id],\n",
      "/opt/anaconda3/envs/phoenix/lib/python3.12/site-packages/phoenix/server/api/types/EmbeddingDimension.py:427: FutureWarning: Series.__getitem__ treating keys as positions is deprecated. In a future version, integer keys will always be treated as labels (consistent with DataFrame behavior). To access a value by position, use `ser.iloc[pos]`\n",
      "  raw_data=dataset[self.dimension.raw_data][row_id],\n",
      "/opt/anaconda3/envs/phoenix/lib/python3.12/site-packages/phoenix/server/api/types/EmbeddingDimension.py:448: FutureWarning: Series.__getitem__ treating keys as positions is deprecated. In a future version, integer keys will always be treated as labels (consistent with DataFrame behavior). To access a value by position, use `ser.iloc[pos]`\n",
      "  prediction_label=dataset[PREDICTION_LABEL][row_id],\n",
      "/opt/anaconda3/envs/phoenix/lib/python3.12/site-packages/phoenix/server/api/types/EmbeddingDimension.py:449: FutureWarning: Series.__getitem__ treating keys as positions is deprecated. In a future version, integer keys will always be treated as labels (consistent with DataFrame behavior). To access a value by position, use `ser.iloc[pos]`\n",
      "  prediction_score=dataset[PREDICTION_SCORE][row_id],\n",
      "/opt/anaconda3/envs/phoenix/lib/python3.12/site-packages/phoenix/server/api/types/EmbeddingDimension.py:450: FutureWarning: Series.__getitem__ treating keys as positions is deprecated. In a future version, integer keys will always be treated as labels (consistent with DataFrame behavior). To access a value by position, use `ser.iloc[pos]`\n",
      "  actual_label=dataset[ACTUAL_LABEL][row_id],\n",
      "/opt/anaconda3/envs/phoenix/lib/python3.12/site-packages/phoenix/server/api/types/EmbeddingDimension.py:451: FutureWarning: Series.__getitem__ treating keys as positions is deprecated. In a future version, integer keys will always be treated as labels (consistent with DataFrame behavior). To access a value by position, use `ser.iloc[pos]`\n",
      "  actual_score=dataset[ACTUAL_SCORE][row_id],\n"
     ]
    }
   ],
   "source": [
    "#Launch Phoenix with both inferences\n",
    "session = px.launch_app(primary=prod_ds, reference=train_ds)"
   ]
  }
 ],
 "metadata": {
  "kernelspec": {
   "display_name": ".venv",
   "language": "python",
   "name": "python3"
  },
  "language_info": {
   "codemirror_mode": {
    "name": "ipython",
    "version": 3
   },
   "file_extension": ".py",
   "mimetype": "text/x-python",
   "name": "python",
   "nbconvert_exporter": "python",
   "pygments_lexer": "ipython3",
   "version": "3.12.4"
  }
 },
 "nbformat": 4,
 "nbformat_minor": 2
}
